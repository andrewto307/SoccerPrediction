{
 "cells": [
  {
   "cell_type": "code",
   "execution_count": 1,
   "metadata": {},
   "outputs": [],
   "source": [
    "import pandas as pd\n",
    "import numpy as np\n",
    "\n",
    "from sklearn.metrics import accuracy_score, classification_report\n"
   ]
  },
  {
   "cell_type": "code",
   "execution_count": 2,
   "metadata": {},
   "outputs": [],
   "source": [
    "X_train = pd.read_csv(\"../data/X_train.csv\", index_col=0).drop(columns=[\"Div\", \"Date\", \"HomeTeam\", \"AwayTeam\", \"HomeTeam_ShotOnTarget\", \"AwayTeam_ShotOnTarget\"])\n",
    "X_test = pd.read_csv(\"../data/X_test.csv\", index_col=0).drop(columns=[\"Div\", \"Date\", \"HomeTeam\", \"AwayTeam\", \"HomeTeam_ShotOnTarget\", \"AwayTeam_ShotOnTarget\"])\n",
    "y_train = pd.read_csv(\"../data/y_train.csv\", index_col=0)\n",
    "y_test = pd.read_csv(\"../data/y_test.csv\", index_col=0)\n",
    "\n",
    "y_train = y_train.squeeze()\n",
    "y_test = y_test.squeeze()"
   ]
  },
  {
   "attachments": {},
   "cell_type": "markdown",
   "metadata": {},
   "source": [
    "# <h1 style='font-size:30px;'>Model</h1>"
   ]
  },
  {
   "cell_type": "code",
   "execution_count": 14,
   "metadata": {},
   "outputs": [],
   "source": [
    "from sklearn.model_selection import GridSearchCV\n",
    "from sklearn.metrics import make_scorer, precision_score\n",
    "\n",
    "def run_model(classifier, param_grid, X_train, y_train, X_test, y_test):\n",
    "\n",
    "    grid_search = GridSearchCV(estimator=classifier, param_grid=param_grid, scoring='balanced_accuracy',\n",
    "                               cv=5, verbose=1)\n",
    "    grid_search.fit(X_train, y_train)\n",
    "    model = grid_search.best_estimator_\n",
    "    y_pred = model.predict(X_test)\n",
    "    print(f\"Test Set Accuracy: {accuracy_score(y_test, y_pred):.2f}\")\n",
    "    print(classification_report(y_test, y_pred, zero_division=0))\n",
    "\n",
    "    return grid_search.best_params_"
   ]
  },
  {
   "attachments": {},
   "cell_type": "markdown",
   "metadata": {},
   "source": [
    "# <h1 style='font-size:30px;'>Random Forest Classifier</h1>"
   ]
  },
  {
   "cell_type": "code",
   "execution_count": 30,
   "metadata": {},
   "outputs": [
    {
     "name": "stdout",
     "output_type": "stream",
     "text": [
      "Fitting 5 folds for each of 27 candidates, totalling 135 fits\n",
      "Test Set Accuracy: 0.52\n",
      "              precision    recall  f1-score   support\n",
      "\n",
      "           0       0.42      0.36      0.39        47\n",
      "           1       0.48      0.24      0.32        50\n",
      "           2       0.57      0.78      0.66        83\n",
      "\n",
      "    accuracy                           0.52       180\n",
      "   macro avg       0.49      0.46      0.46       180\n",
      "weighted avg       0.50      0.52      0.49       180\n",
      "\n"
     ]
    },
    {
     "data": {
      "text/plain": [
       "{'min_samples_leaf': 1, 'min_samples_split': 10, 'n_estimators': 500}"
      ]
     },
     "execution_count": 30,
     "metadata": {},
     "output_type": "execute_result"
    }
   ],
   "source": [
    "from sklearn.ensemble import RandomForestClassifier\n",
    "param_grid = {\n",
    "    'n_estimators': [100, 500, 1000],\n",
    "    'min_samples_split': [2, 5, 10],\n",
    "    'min_samples_leaf': [1, 2, 4],\n",
    "    }\n",
    "classifier = RandomForestClassifier(random_state=42)\n",
    "best_params_rf = run_model(classifier, param_grid, X_train, y_train, X_test, y_test)\n",
    "best_params_rf"
   ]
  },
  {
   "attachments": {},
   "cell_type": "markdown",
   "metadata": {},
   "source": [
    "# <h1 style='font-size:30px;'>Gradient Boosting Classifier</h1>"
   ]
  },
  {
   "cell_type": "code",
   "execution_count": 31,
   "metadata": {},
   "outputs": [
    {
     "name": "stdout",
     "output_type": "stream",
     "text": [
      "Test Set Accuracy: 0.50\n",
      "              precision    recall  f1-score   support\n",
      "\n",
      "           0       0.42      0.38      0.40        47\n",
      "           1       0.38      0.20      0.26        50\n",
      "           2       0.56      0.75      0.64        83\n",
      "\n",
      "    accuracy                           0.50       180\n",
      "   macro avg       0.45      0.44      0.43       180\n",
      "weighted avg       0.47      0.50      0.47       180\n",
      "\n"
     ]
    }
   ],
   "source": [
    "from sklearn.ensemble import GradientBoostingClassifier\n",
    "\n",
    "model = GradientBoostingClassifier(n_estimators=1000, max_depth=10)\n",
    "model.fit(X_train, y_train)\n",
    "y_pred = model.predict(X_test)\n",
    "print(f\"Test Set Accuracy: {accuracy_score(y_test, y_pred):.2f}\")\n",
    "print(classification_report(y_test, y_pred, zero_division=0))"
   ]
  },
  {
   "attachments": {},
   "cell_type": "markdown",
   "metadata": {},
   "source": [
    "# <h1 style='font-size:30px;'>Naive Bayes</h1>"
   ]
  },
  {
   "cell_type": "code",
   "execution_count": 34,
   "metadata": {},
   "outputs": [
    {
     "name": "stdout",
     "output_type": "stream",
     "text": [
      "Fitting 5 folds for each of 10 candidates, totalling 50 fits\n",
      "Test Set Accuracy: 0.49\n",
      "              precision    recall  f1-score   support\n",
      "\n",
      "           0       0.46      0.55      0.50        47\n",
      "           1       0.34      0.46      0.39        50\n",
      "           2       0.70      0.47      0.56        83\n",
      "\n",
      "    accuracy                           0.49       180\n",
      "   macro avg       0.50      0.49      0.48       180\n",
      "weighted avg       0.54      0.49      0.50       180\n",
      "\n"
     ]
    },
    {
     "data": {
      "text/plain": [
       "{'priors': [0.3, 0.4, 0.3], 'var_smoothing': 2.1544346900318868e-11}"
      ]
     },
     "execution_count": 34,
     "metadata": {},
     "output_type": "execute_result"
    }
   ],
   "source": [
    "from sklearn.naive_bayes import GaussianNB\n",
    "\n",
    "param_grid = {\n",
    "    'var_smoothing': np.logspace(0, -12, num=10),\n",
    "    'priors': [[0.3, 0.4, 0.3]]\n",
    "}\n",
    "classifier = GaussianNB()\n",
    "\n",
    "best_params_nb = run_model(classifier, param_grid, X_train, y_train, X_test, y_test)\n",
    "best_params_nb"
   ]
  },
  {
   "attachments": {},
   "cell_type": "markdown",
   "metadata": {},
   "source": [
    "# <h1 style='font-size:30px;'>Stacking Classifier</h1>"
   ]
  },
  {
   "attachments": {},
   "cell_type": "markdown",
   "metadata": {},
   "source": [
    "# <h1 style='font-size:15px;'>By Using Stacking Classifier, we can have a more balanced result which have a better performance in predicting results for Draw</h1>"
   ]
  },
  {
   "cell_type": "code",
   "execution_count": 35,
   "metadata": {},
   "outputs": [
    {
     "name": "stdout",
     "output_type": "stream",
     "text": [
      "Test Set Accuracy: 0.53\n",
      "              precision    recall  f1-score   support\n",
      "\n",
      "           0       0.46      0.62      0.53        47\n",
      "           1       0.42      0.30      0.35        50\n",
      "           2       0.64      0.63      0.63        83\n",
      "\n",
      "    accuracy                           0.53       180\n",
      "   macro avg       0.51      0.51      0.50       180\n",
      "weighted avg       0.53      0.53      0.53       180\n",
      "\n"
     ]
    }
   ],
   "source": [
    "from sklearn.ensemble import StackingClassifier\n",
    "from sklearn.ensemble import GradientBoostingClassifier\n",
    "from sklearn.ensemble import RandomForestClassifier\n",
    "from sklearn.naive_bayes import GaussianNB\n",
    "import xgboost as xgb\n",
    "\n",
    "classifier_1 = GradientBoostingClassifier(n_estimators=1000, criterion='friedman_mse', learning_rate=0.1, subsample=0.5)\n",
    "classifier_2 = RandomForestClassifier(n_estimators=1000, min_samples_leaf=1, max_leaf_nodes=5)\n",
    "classifier_3 = GaussianNB(var_smoothing=1e-09)\n",
    "sclf = StackingClassifier(estimators = [('rf', classifier_2), ('gb', classifier_1), ('gnb', classifier_3)],\n",
    "                          final_estimator = classifier_3\n",
    "                          )\n",
    "\n",
    "model = sclf.fit(X_train, y_train)\n",
    "y_pred = model.predict(X_test)\n",
    "print(f\"Test Set Accuracy: {accuracy_score(y_test, y_pred):.2f}\")\n",
    "print(classification_report(y_test, y_pred, zero_division=0))"
   ]
  },
  {
   "attachments": {},
   "cell_type": "markdown",
   "metadata": {},
   "source": [
    "# <h1 style='font-size:30px;'>CatBoost</h1>"
   ]
  },
  {
   "cell_type": "code",
   "execution_count": 3,
   "metadata": {},
   "outputs": [],
   "source": [
    "from imblearn.over_sampling import SMOTE\n",
    "smote = SMOTE(random_state=42)\n",
    "X_train_resampled, y_train_resampled = smote.fit_resample(X_train, y_train)\n",
    "X_test_resampled, y_test_resampled = smote.fit_resample(X_test, y_test)"
   ]
  },
  {
   "cell_type": "code",
   "execution_count": 10,
   "metadata": {},
   "outputs": [
    {
     "name": "stdout",
     "output_type": "stream",
     "text": [
      "Test Set Accuracy: 0.58\n",
      "              precision    recall  f1-score   support\n",
      "\n",
      "           0       0.60      0.45      0.51        47\n",
      "           1       0.50      0.46      0.48        50\n",
      "           2       0.61      0.72      0.66        83\n",
      "\n",
      "    accuracy                           0.58       180\n",
      "   macro avg       0.57      0.54      0.55       180\n",
      "weighted avg       0.58      0.58      0.57       180\n",
      "\n",
      "{'learn': {'Accuracy': 0.9829928334581238, 'MultiClass': 0.2874334984834144}, 'validation': {'Accuracy': 0.5634146341463414, 'MultiClass': 1.0087578860801056}}\n"
     ]
    }
   ],
   "source": [
    "from catboost import CatBoostClassifier\n",
    "model = CatBoostClassifier(iterations=1000, loss_function=\"MultiClass\", \n",
    "                                eval_metric=\"Accuracy\", learning_rate=0.3, l2_leaf_reg=9, class_weights=[1, 1.5, 1])\n",
    "\n",
    "model.fit(X_train,\n",
    "          y_train,\n",
    "          eval_set=(X_test, y_test),\n",
    "          verbose=False)\n",
    "\n",
    "y_pred = model.predict(X_test)\n",
    "print(f\"Test Set Accuracy: {accuracy_score(y_test, y_pred):.2f}\")\n",
    "print(classification_report(y_test, y_pred, zero_division=0))\n",
    "print(model.get_best_score())"
   ]
  },
  {
   "attachments": {},
   "cell_type": "markdown",
   "metadata": {},
   "source": [
    "# <h1 style='font-size:30px;'>XGBoost</h1>"
   ]
  },
  {
   "cell_type": "code",
   "execution_count": 37,
   "metadata": {},
   "outputs": [
    {
     "name": "stdout",
     "output_type": "stream",
     "text": [
      "Fitting 5 folds for each of 27 candidates, totalling 135 fits\n",
      "Test Set Accuracy: 0.52\n",
      "              precision    recall  f1-score   support\n",
      "\n",
      "           0       0.48      0.43      0.45        47\n",
      "           1       0.37      0.20      0.26        50\n",
      "           2       0.57      0.76      0.65        83\n",
      "\n",
      "    accuracy                           0.52       180\n",
      "   macro avg       0.47      0.46      0.45       180\n",
      "weighted avg       0.49      0.52      0.49       180\n",
      "\n"
     ]
    },
    {
     "data": {
      "text/plain": [
       "{'learning_rate': 0.1,\n",
       " 'max_depth': 3,\n",
       " 'min_child_weight': 5,\n",
       " 'n_estimators': 1000,\n",
       " 'objective': 'multi:softmax'}"
      ]
     },
     "execution_count": 37,
     "metadata": {},
     "output_type": "execute_result"
    }
   ],
   "source": [
    "from xgboost import XGBClassifier\n",
    "\n",
    "grid_params = {\n",
    "    'max_depth': [3,6,9],\n",
    "    'min_child_weight': [1,3,5],\n",
    "    'learning_rate': [0.1, 0.5, 1],\n",
    "    'objective': ['multi:softmax'],\n",
    "    'n_estimators': [1000]\n",
    "}\n",
    "\n",
    "classifier = XGBClassifier()\n",
    "best_params_gb = run_model(classifier, grid_params, X_train, y_train, X_test, y_test)\n",
    "best_params_gb"
   ]
  },
  {
   "attachments": {},
   "cell_type": "markdown",
   "metadata": {},
   "source": [
    "# <h1 style='font-size:30px;'>Save Model</h1>\n",
    "\n",
    "# <h1 style='font-size:15px;'>Catboost is the most efficient model such that it has best balanced prediction result in all 3 possible outcomes</h1>"
   ]
  },
  {
   "cell_type": "code",
   "execution_count": 19,
   "metadata": {},
   "outputs": [],
   "source": [
    "import pickle\n",
    "\n",
    "catboost = CatBoostClassifier(iterations=1000, loss_function=\"MultiClass\", \n",
    "                                eval_metric=\"Accuracy\", learning_rate=0.3, l2_leaf_reg=9, class_weights=[1, 1.5, 1])\n",
    "\n",
    "catboost.fit(X_train,\n",
    "          y_train,\n",
    "          eval_set=(X_test, y_test),\n",
    "          verbose=False)\n",
    "\n",
    "pickle.dump(catboost, open('catboost.pkl', 'wb'))"
   ]
  },
  {
   "cell_type": "code",
   "execution_count": null,
   "metadata": {},
   "outputs": [],
   "source": []
  }
 ],
 "metadata": {
  "kernelspec": {
   "display_name": "soccerprediction",
   "language": "python",
   "name": "python3"
  },
  "language_info": {
   "codemirror_mode": {
    "name": "ipython",
    "version": 3
   },
   "file_extension": ".py",
   "mimetype": "text/x-python",
   "name": "python",
   "nbconvert_exporter": "python",
   "pygments_lexer": "ipython3",
   "version": "3.11.11"
  },
  "orig_nbformat": 4
 },
 "nbformat": 4,
 "nbformat_minor": 2
}
