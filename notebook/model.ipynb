{
 "cells": [
  {
   "cell_type": "code",
   "execution_count": 2,
   "metadata": {},
   "outputs": [],
   "source": [
    "import pandas as pd\n",
    "import numpy as np\n",
    "\n",
    "from sklearn.metrics import accuracy_score, classification_report\n"
   ]
  },
  {
   "cell_type": "code",
   "execution_count": 3,
   "metadata": {},
   "outputs": [],
   "source": [
    "X_train = pd.read_csv(\"../data/X_train.csv\", index_col=0).drop(columns=[\"Div\", \"Date\", \"HomeTeam\", \"AwayTeam\", \"HomeTeam_ShotOnTarget\", \"AwayTeam_ShotOnTarget\"])\n",
    "X_test = pd.read_csv(\"../data/X_test.csv\", index_col=0).drop(columns=[\"Div\", \"Date\", \"HomeTeam\", \"AwayTeam\", \"HomeTeam_ShotOnTarget\", \"AwayTeam_ShotOnTarget\"])\n",
    "y_train = pd.read_csv(\"../data/y_train.csv\", index_col=0)\n",
    "y_test = pd.read_csv(\"../data/y_test.csv\", index_col=0)\n",
    "\n",
    "X_train = X_train.to_numpy()\n",
    "X_test = X_test.to_numpy()\n",
    "y_train = y_train['FTR_encoded'].to_numpy()\n",
    "y_test = y_test['FTR_encoded'].to_numpy()"
   ]
  },
  {
   "attachments": {},
   "cell_type": "markdown",
   "metadata": {},
   "source": [
    "# <h1 style='font-size:30px;'>Model</h1>"
   ]
  },
  {
   "cell_type": "code",
   "execution_count": 80,
   "metadata": {},
   "outputs": [],
   "source": [
    "from sklearn.model_selection import GridSearchCV\n",
    "def run_model(classifier, param_grid, X_train, y_train, X_test, y_test):\n",
    "\n",
    "    grid_search = GridSearchCV(estimator=classifier, param_grid=param_grid, scoring='accuracy', cv=5, verbose=1)\n",
    "    grid_search.fit(X_train, y_train)\n",
    "    model = grid_search.best_estimator_\n",
    "    y_pred = model.predict(X_test)\n",
    "    print(f\"Test Set Accuracy: {accuracy_score(y_test, y_pred):.2f}\")\n",
    "    print(classification_report(y_test, y_pred, zero_division=0))\n",
    "\n",
    "    return y_pred"
   ]
  },
  {
   "cell_type": "code",
   "execution_count": 11,
   "metadata": {},
   "outputs": [
    {
     "data": {
      "text/plain": [
       "array([[0.84615385, 0.73333333, 0.57692308, ..., 0.        , 1.        ,\n",
       "        0.        ],\n",
       "       [0.80769231, 0.6       , 0.65384615, ..., 0.        , 0.        ,\n",
       "        0.        ],\n",
       "       [0.57692308, 0.46666667, 0.34615385, ..., 0.        , 0.        ,\n",
       "        0.        ],\n",
       "       ...,\n",
       "       [0.53846154, 0.46666667, 0.84615385, ..., 1.        , 0.        ,\n",
       "        0.        ],\n",
       "       [0.57692308, 0.46666667, 0.65384615, ..., 0.        , 0.        ,\n",
       "        0.        ],\n",
       "       [0.53846154, 0.46666667, 0.53846154, ..., 0.        , 0.        ,\n",
       "        0.        ]])"
      ]
     },
     "execution_count": 11,
     "metadata": {},
     "output_type": "execute_result"
    }
   ],
   "source": [
    "X_train"
   ]
  },
  {
   "attachments": {},
   "cell_type": "markdown",
   "metadata": {},
   "source": [
    "# <h1 style='font-size:30px;'>Random Forest Classifier</h1>"
   ]
  },
  {
   "cell_type": "code",
   "execution_count": 81,
   "metadata": {},
   "outputs": [
    {
     "name": "stdout",
     "output_type": "stream",
     "text": [
      "Test Set Accuracy: 0.53\n",
      "              precision    recall  f1-score   support\n",
      "\n",
      "           0       0.56      0.40      0.46       692\n",
      "           1       0.30      0.12      0.17       520\n",
      "           2       0.56      0.82      0.66      1065\n",
      "\n",
      "    accuracy                           0.53      2277\n",
      "   macro avg       0.47      0.45      0.43      2277\n",
      "weighted avg       0.50      0.53      0.49      2277\n",
      "\n"
     ]
    }
   ],
   "source": [
    "from sklearn.ensemble import RandomForestClassifier\n",
    "\n",
    "model = RandomForestClassifier(n_estimators=1000, random_state=42)\n",
    "result = model.fit(X_train, y_train)\n",
    "y_pred = model.predict(X_test)\n",
    "print(f\"Test Set Accuracy: {accuracy_score(y_test, y_pred):.2f}\")\n",
    "print(classification_report(y_test, y_pred, zero_division=0))\n"
   ]
  },
  {
   "cell_type": "code",
   "execution_count": 85,
   "metadata": {},
   "outputs": [
    {
     "name": "stdout",
     "output_type": "stream",
     "text": [
      "Fitting 5 folds for each of 9 candidates, totalling 45 fits\n",
      "Test Set Accuracy: 0.55\n",
      "              precision    recall  f1-score   support\n",
      "\n",
      "           0       0.59      0.41      0.48       692\n",
      "           1       0.32      0.09      0.14       520\n",
      "           2       0.56      0.86      0.68      1065\n",
      "\n",
      "    accuracy                           0.55      2277\n",
      "   macro avg       0.49      0.45      0.43      2277\n",
      "weighted avg       0.51      0.55      0.50      2277\n",
      "\n"
     ]
    }
   ],
   "source": [
    "from sklearn.ensemble import RandomForestClassifier\n",
    "param_grid = {\n",
    "    'n_estimators': [1000],\n",
    "    'max_depth': [None],\n",
    "    'min_samples_split': [2, 5, 10],\n",
    "    'min_samples_leaf': [1, 2, 4],\n",
    "    }\n",
    "classifier = RandomForestClassifier(random_state=42)\n",
    "y_pred = run_model(classifier, param_grid, X_train, y_train, X_test, y_test)"
   ]
  },
  {
   "attachments": {},
   "cell_type": "markdown",
   "metadata": {},
   "source": [
    "# <h1 style='font-size:30px;'>Decision Tree Classifier</h1>"
   ]
  },
  {
   "cell_type": "code",
   "execution_count": 84,
   "metadata": {},
   "outputs": [
    {
     "name": "stdout",
     "output_type": "stream",
     "text": [
      "Fitting 5 folds for each of 27 candidates, totalling 135 fits\n",
      "Test Set Accuracy: 0.46\n",
      "              precision    recall  f1-score   support\n",
      "\n",
      "           0       0.42      0.37      0.39       692\n",
      "           1       0.25      0.28      0.27       520\n",
      "           2       0.59      0.60      0.59      1065\n",
      "\n",
      "    accuracy                           0.46      2277\n",
      "   macro avg       0.42      0.42      0.42      2277\n",
      "weighted avg       0.46      0.46      0.46      2277\n",
      "\n"
     ]
    }
   ],
   "source": [
    "from sklearn.tree import DecisionTreeClassifier\n",
    "param_grid = {\n",
    "    'criterion': ['gini', 'entropy', 'log_loss'],\n",
    "    'max_depth': [None],\n",
    "    'min_samples_split': [2, 5, 10],\n",
    "    'min_samples_leaf': [1, 2, 4]\n",
    "\n",
    "    }\n",
    "classifier = DecisionTreeClassifier()\n",
    "y_pred = run_model(classifier, param_grid, X_train, y_train, X_test, y_test)"
   ]
  },
  {
   "attachments": {},
   "cell_type": "markdown",
   "metadata": {},
   "source": [
    "# <h1 style='font-size:30px;'>Gradient Boosting Classifier</h1>"
   ]
  },
  {
   "cell_type": "code",
   "execution_count": 6,
   "metadata": {},
   "outputs": [
    {
     "name": "stdout",
     "output_type": "stream",
     "text": [
      "Test Set Accuracy: 0.50\n",
      "              precision    recall  f1-score   support\n",
      "\n",
      "           0       0.52      0.38      0.44       692\n",
      "           1       0.26      0.22      0.24       520\n",
      "           2       0.57      0.72      0.64      1065\n",
      "\n",
      "    accuracy                           0.50      2277\n",
      "   macro avg       0.45      0.44      0.44      2277\n",
      "weighted avg       0.49      0.50      0.49      2277\n",
      "\n"
     ]
    }
   ],
   "source": [
    "from sklearn.ensemble import GradientBoostingClassifier\n",
    "\n",
    "model = GradientBoostingClassifier(n_estimators=1000)\n",
    "model.fit(X_train, y_train)\n",
    "y_pred = model.predict(X_test)\n",
    "print(f\"Test Set Accuracy: {accuracy_score(y_test, y_pred):.2f}\")\n",
    "print(classification_report(y_test, y_pred, zero_division=0))"
   ]
  },
  {
   "cell_type": "code",
   "execution_count": 90,
   "metadata": {},
   "outputs": [
    {
     "name": "stdout",
     "output_type": "stream",
     "text": [
      "Fitting 5 folds for each of 18 candidates, totalling 90 fits\n"
     ]
    },
    {
     "name": "stderr",
     "output_type": "stream",
     "text": [
      "/Users/ducduongto/Soccer Prediction/soccerprediction/lib/python3.13/site-packages/sklearn/model_selection/_validation.py:540: FitFailedWarning: \n",
      "30 fits failed out of a total of 90.\n",
      "The score on these train-test partitions for these parameters will be set to nan.\n",
      "If these failures are not expected, you can try to debug them by setting error_score='raise'.\n",
      "\n",
      "Below are more details about the failures:\n",
      "--------------------------------------------------------------------------------\n",
      "30 fits failed with the following error:\n",
      "Traceback (most recent call last):\n",
      "  File \"/Users/ducduongto/Soccer Prediction/soccerprediction/lib/python3.13/site-packages/sklearn/model_selection/_validation.py\", line 888, in _fit_and_score\n",
      "    estimator.fit(X_train, y_train, **fit_params)\n",
      "    ~~~~~~~~~~~~~^^^^^^^^^^^^^^^^^^^^^^^^^^^^^^^^\n",
      "  File \"/Users/ducduongto/Soccer Prediction/soccerprediction/lib/python3.13/site-packages/sklearn/base.py\", line 1466, in wrapper\n",
      "    estimator._validate_params()\n",
      "    ~~~~~~~~~~~~~~~~~~~~~~~~~~^^\n",
      "  File \"/Users/ducduongto/Soccer Prediction/soccerprediction/lib/python3.13/site-packages/sklearn/base.py\", line 666, in _validate_params\n",
      "    validate_parameter_constraints(\n",
      "    ~~~~~~~~~~~~~~~~~~~~~~~~~~~~~~^\n",
      "        self._parameter_constraints,\n",
      "        ^^^^^^^^^^^^^^^^^^^^^^^^^^^^\n",
      "        self.get_params(deep=False),\n",
      "        ^^^^^^^^^^^^^^^^^^^^^^^^^^^^\n",
      "        caller_name=self.__class__.__name__,\n",
      "        ^^^^^^^^^^^^^^^^^^^^^^^^^^^^^^^^^^^^\n",
      "    )\n",
      "    ^\n",
      "  File \"/Users/ducduongto/Soccer Prediction/soccerprediction/lib/python3.13/site-packages/sklearn/utils/_param_validation.py\", line 95, in validate_parameter_constraints\n",
      "    raise InvalidParameterError(\n",
      "    ...<2 lines>...\n",
      "    )\n",
      "sklearn.utils._param_validation.InvalidParameterError: The 'subsample' parameter of GradientBoostingClassifier must be a float in the range (0.0, 1.0]. Got 0 instead.\n",
      "\n",
      "  warnings.warn(some_fits_failed_message, FitFailedWarning)\n",
      "/Users/ducduongto/Soccer Prediction/soccerprediction/lib/python3.13/site-packages/sklearn/model_selection/_search.py:1103: UserWarning: One or more of the test scores are non-finite: [       nan 0.49591404 0.48055133        nan 0.43542935 0.46423284\n",
      "        nan 0.39802274 0.47192169        nan 0.47765749 0.4824721\n",
      "        nan 0.43449202 0.46422477        nan 0.31927343 0.46230977]\n",
      "  warnings.warn(\n"
     ]
    },
    {
     "name": "stdout",
     "output_type": "stream",
     "text": [
      "Test Set Accuracy: 0.51\n",
      "              precision    recall  f1-score   support\n",
      "\n",
      "           0       0.53      0.41      0.46       692\n",
      "           1       0.27      0.21      0.24       520\n",
      "           2       0.57      0.72      0.63      1065\n",
      "\n",
      "    accuracy                           0.51      2277\n",
      "   macro avg       0.46      0.44      0.44      2277\n",
      "weighted avg       0.49      0.51      0.49      2277\n",
      "\n"
     ]
    }
   ],
   "source": [
    "\n",
    "param_grid = {\n",
    "    'n_estimators': [1000],\n",
    "    'criterion': ['friedman_mse', 'squared_error'],\n",
    "    'subsample': [0, 0.5, 1],\n",
    "    'learning_rate': [0.1, 0.5, 1]\n",
    "    }\n",
    "classifier = GradientBoostingClassifier()\n",
    "y_pred = run_model(classifier, param_grid, X_train, y_train, X_test, y_test)"
   ]
  },
  {
   "cell_type": "code",
   "execution_count": null,
   "metadata": {},
   "outputs": [],
   "source": []
  }
 ],
 "metadata": {
  "kernelspec": {
   "display_name": "soccerprediction",
   "language": "python",
   "name": "python3"
  },
  "language_info": {
   "codemirror_mode": {
    "name": "ipython",
    "version": 3
   },
   "file_extension": ".py",
   "mimetype": "text/x-python",
   "name": "python",
   "nbconvert_exporter": "python",
   "pygments_lexer": "ipython3",
   "version": "3.13.0"
  },
  "orig_nbformat": 4
 },
 "nbformat": 4,
 "nbformat_minor": 2
}
